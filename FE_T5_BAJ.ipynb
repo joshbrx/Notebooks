{
 "cells": [
  {
   "cell_type": "markdown",
   "metadata": {},
   "source": [
    "# Tarea 5: Física Estadística\n",
    "\n",
    "### Briones Andrade Joshua"
   ]
  },
  {
   "cell_type": "code",
   "execution_count": 1,
   "metadata": {},
   "outputs": [],
   "source": [
    "import numpy as np\n",
    "import pandas as pd\n",
    "import matplotlib.pyplot as plt\n",
    "import random\n",
    "from scipy.special import comb"
   ]
  },
  {
   "cell_type": "code",
   "execution_count": 2,
   "metadata": {},
   "outputs": [],
   "source": [
    "# Constantes\n",
    "eps_0 = 8.854187817e-12 #F/m\n",
    "K_B   = 1.3806503e-23   #J/K\n",
    "\n",
    "def Omega(N,q):\n",
    "    return float(comb(q + N - 1, q, exact=True, repetition=True))\n",
    "\n",
    "def S_norm(N,q):\n",
    "    return np.log(Omega(N,q))\n",
    "\n",
    "def T_inv(N,q):\n",
    "    t1 = K_B/eps_0\n",
    "    t2 = np.log(1+N/q)\n",
    "    return t1*t2\n",
    "\n",
    "def E_int(q):\n",
    "    return q*eps_0"
   ]
  },
  {
   "cell_type": "code",
   "execution_count": 3,
   "metadata": {},
   "outputs": [
    {
     "data": {
      "text/plain": [
       "((100, 5), (100, 5))"
      ]
     },
     "execution_count": 3,
     "metadata": {},
     "output_type": "execute_result"
    }
   ],
   "source": [
    "N_A = 300;\n",
    "N_B = 200;\n",
    "q_tot = 100;\n",
    "\n",
    "datos_a = np.array([(q, Omega(N_A, q), S_norm(N_A, q), T_inv(N_A, q), E_int(q)) for q in range(1,q_tot+1)]);\n",
    "datos_b = np.array([(q_tot-q, Omega(N_B, q_tot-q), S_norm(N_B, q_tot-q), T_inv(N_B, q_tot-q), E_int(q_tot-q))\n",
    "                    for q in range(0,q_tot)]);\n",
    "\n",
    "datos_a.shape, datos_b.shape\n",
    "# tabla_a[:,0], tabla_b[:,0]"
   ]
  },
  {
   "cell_type": "code",
   "execution_count": 4,
   "metadata": {
    "scrolled": false
   },
   "outputs": [
    {
     "data": {
      "text/html": [
       "<div>\n",
       "<style scoped>\n",
       "    .dataframe tbody tr th:only-of-type {\n",
       "        vertical-align: middle;\n",
       "    }\n",
       "\n",
       "    .dataframe tbody tr th {\n",
       "        vertical-align: top;\n",
       "    }\n",
       "\n",
       "    .dataframe thead th {\n",
       "        text-align: right;\n",
       "    }\n",
       "</style>\n",
       "<table border=\"1\" class=\"dataframe\">\n",
       "  <thead>\n",
       "    <tr style=\"text-align: right;\">\n",
       "      <th></th>\n",
       "      <th>$q_A$</th>\n",
       "      <th>$\\Omega(N_A, q_A)$</th>\n",
       "      <th>$S/k_B$</th>\n",
       "      <th>$1/T$</th>\n",
       "      <th>$U_a$</th>\n",
       "    </tr>\n",
       "  </thead>\n",
       "  <tbody>\n",
       "    <tr>\n",
       "      <th>0</th>\n",
       "      <td>1.0</td>\n",
       "      <td>3.000000e+02</td>\n",
       "      <td>5.703782</td>\n",
       "      <td>8.899205e-12</td>\n",
       "      <td>8.854188e-12</td>\n",
       "    </tr>\n",
       "    <tr>\n",
       "      <th>1</th>\n",
       "      <td>2.0</td>\n",
       "      <td>4.545100e+04</td>\n",
       "      <td>10.724390</td>\n",
       "      <td>7.823540e-12</td>\n",
       "      <td>1.770838e-11</td>\n",
       "    </tr>\n",
       "    <tr>\n",
       "      <th>2</th>\n",
       "      <td>3.0</td>\n",
       "      <td>4.636304e+06</td>\n",
       "      <td>15.349428</td>\n",
       "      <td>7.196445e-12</td>\n",
       "      <td>2.656256e-11</td>\n",
       "    </tr>\n",
       "    <tr>\n",
       "      <th>3</th>\n",
       "      <td>4.0</td>\n",
       "      <td>3.582005e+08</td>\n",
       "      <td>19.696604</td>\n",
       "      <td>6.752995e-12</td>\n",
       "      <td>3.541675e-11</td>\n",
       "    </tr>\n",
       "    <tr>\n",
       "      <th>4</th>\n",
       "      <td>5.0</td>\n",
       "      <td>2.235644e+10</td>\n",
       "      <td>23.830380</td>\n",
       "      <td>6.410164e-12</td>\n",
       "      <td>4.427094e-11</td>\n",
       "    </tr>\n",
       "    <tr>\n",
       "      <th>...</th>\n",
       "      <td>...</td>\n",
       "      <td>...</td>\n",
       "      <td>...</td>\n",
       "      <td>...</td>\n",
       "      <td>...</td>\n",
       "    </tr>\n",
       "    <tr>\n",
       "      <th>95</th>\n",
       "      <td>96.0</td>\n",
       "      <td>8.496867e+103</td>\n",
       "      <td>239.305962</td>\n",
       "      <td>2.209658e-12</td>\n",
       "      <td>8.500020e-10</td>\n",
       "    </tr>\n",
       "    <tr>\n",
       "      <th>96</th>\n",
       "      <td>97.0</td>\n",
       "      <td>5.357184e+104</td>\n",
       "      <td>241.147288</td>\n",
       "      <td>2.197432e-12</td>\n",
       "      <td>8.588562e-10</td>\n",
       "    </tr>\n",
       "    <tr>\n",
       "      <th>97</th>\n",
       "      <td>98.0</td>\n",
       "      <td>3.361934e+105</td>\n",
       "      <td>242.983951</td>\n",
       "      <td>2.185361e-12</td>\n",
       "      <td>8.677104e-10</td>\n",
       "    </tr>\n",
       "    <tr>\n",
       "      <th>98</th>\n",
       "      <td>99.0</td>\n",
       "      <td>2.100150e+106</td>\n",
       "      <td>244.816029</td>\n",
       "      <td>2.173444e-12</td>\n",
       "      <td>8.765646e-10</td>\n",
       "    </tr>\n",
       "    <tr>\n",
       "      <th>99</th>\n",
       "      <td>100.0</td>\n",
       "      <td>1.306030e+107</td>\n",
       "      <td>246.643597</td>\n",
       "      <td>2.161675e-12</td>\n",
       "      <td>8.854188e-10</td>\n",
       "    </tr>\n",
       "  </tbody>\n",
       "</table>\n",
       "<p>100 rows × 5 columns</p>\n",
       "</div>"
      ],
      "text/plain": [
       "    $q_A$  $\\Omega(N_A, q_A)$     $S/k_B$         $1/T$         $U_a$\n",
       "0     1.0        3.000000e+02    5.703782  8.899205e-12  8.854188e-12\n",
       "1     2.0        4.545100e+04   10.724390  7.823540e-12  1.770838e-11\n",
       "2     3.0        4.636304e+06   15.349428  7.196445e-12  2.656256e-11\n",
       "3     4.0        3.582005e+08   19.696604  6.752995e-12  3.541675e-11\n",
       "4     5.0        2.235644e+10   23.830380  6.410164e-12  4.427094e-11\n",
       "..    ...                 ...         ...           ...           ...\n",
       "95   96.0       8.496867e+103  239.305962  2.209658e-12  8.500020e-10\n",
       "96   97.0       5.357184e+104  241.147288  2.197432e-12  8.588562e-10\n",
       "97   98.0       3.361934e+105  242.983951  2.185361e-12  8.677104e-10\n",
       "98   99.0       2.100150e+106  244.816029  2.173444e-12  8.765646e-10\n",
       "99  100.0       1.306030e+107  246.643597  2.161675e-12  8.854188e-10\n",
       "\n",
       "[100 rows x 5 columns]"
      ]
     },
     "execution_count": 4,
     "metadata": {},
     "output_type": "execute_result"
    }
   ],
   "source": [
    "tabla_a = pd.DataFrame(datos_a, columns=[r\"$q_A$\", \"$\\Omega(N_A, q_A)$\", \"$S/k_B$\", \"$1/T$\", \"$U_a$\"])\n",
    "tabla_a"
   ]
  },
  {
   "cell_type": "code",
   "execution_count": 5,
   "metadata": {},
   "outputs": [
    {
     "data": {
      "text/html": [
       "<div>\n",
       "<style scoped>\n",
       "    .dataframe tbody tr th:only-of-type {\n",
       "        vertical-align: middle;\n",
       "    }\n",
       "\n",
       "    .dataframe tbody tr th {\n",
       "        vertical-align: top;\n",
       "    }\n",
       "\n",
       "    .dataframe thead th {\n",
       "        text-align: right;\n",
       "    }\n",
       "</style>\n",
       "<table border=\"1\" class=\"dataframe\">\n",
       "  <thead>\n",
       "    <tr style=\"text-align: right;\">\n",
       "      <th></th>\n",
       "      <th>$q_B$</th>\n",
       "      <th>$\\Omega(N_B, q_B)$</th>\n",
       "      <th>$S/k_B$</th>\n",
       "      <th>$1/T$</th>\n",
       "      <th>$U_b$</th>\n",
       "    </tr>\n",
       "  </thead>\n",
       "  <tbody>\n",
       "    <tr>\n",
       "      <th>0</th>\n",
       "      <td>100.0</td>\n",
       "      <td>1.259990e+96</td>\n",
       "      <td>221.279273</td>\n",
       "      <td>1.713087e-12</td>\n",
       "      <td>8.854188e-10</td>\n",
       "    </tr>\n",
       "    <tr>\n",
       "      <th>1</th>\n",
       "      <td>99.0</td>\n",
       "      <td>2.376346e+95</td>\n",
       "      <td>219.611148</td>\n",
       "      <td>1.723552e-12</td>\n",
       "      <td>8.765646e-10</td>\n",
       "    </tr>\n",
       "    <tr>\n",
       "      <th>2</th>\n",
       "      <td>98.0</td>\n",
       "      <td>4.466929e+94</td>\n",
       "      <td>217.939700</td>\n",
       "      <td>1.734159e-12</td>\n",
       "      <td>8.677104e-10</td>\n",
       "    </tr>\n",
       "    <tr>\n",
       "      <th>3</th>\n",
       "      <td>97.0</td>\n",
       "      <td>8.368317e+93</td>\n",
       "      <td>216.264866</td>\n",
       "      <td>1.744911e-12</td>\n",
       "      <td>8.588562e-10</td>\n",
       "    </tr>\n",
       "    <tr>\n",
       "      <th>4</th>\n",
       "      <td>96.0</td>\n",
       "      <td>1.562317e+93</td>\n",
       "      <td>214.586583</td>\n",
       "      <td>1.755811e-12</td>\n",
       "      <td>8.500020e-10</td>\n",
       "    </tr>\n",
       "    <tr>\n",
       "      <th>...</th>\n",
       "      <td>...</td>\n",
       "      <td>...</td>\n",
       "      <td>...</td>\n",
       "      <td>...</td>\n",
       "      <td>...</td>\n",
       "    </tr>\n",
       "    <tr>\n",
       "      <th>95</th>\n",
       "      <td>5.0</td>\n",
       "      <td>3.091033e+09</td>\n",
       "      <td>21.851771</td>\n",
       "      <td>5.790643e-12</td>\n",
       "      <td>4.427094e-11</td>\n",
       "    </tr>\n",
       "    <tr>\n",
       "      <th>96</th>\n",
       "      <td>4.0</td>\n",
       "      <td>7.286786e+07</td>\n",
       "      <td>18.104158</td>\n",
       "      <td>6.130970e-12</td>\n",
       "      <td>3.541675e-11</td>\n",
       "    </tr>\n",
       "    <tr>\n",
       "      <th>97</th>\n",
       "      <td>3.0</td>\n",
       "      <td>1.394204e+06</td>\n",
       "      <td>14.147834</td>\n",
       "      <td>6.571896e-12</td>\n",
       "      <td>2.656256e-11</td>\n",
       "    </tr>\n",
       "    <tr>\n",
       "      <th>98</th>\n",
       "      <td>2.0</td>\n",
       "      <td>2.030100e+04</td>\n",
       "      <td>9.918425</td>\n",
       "      <td>7.196445e-12</td>\n",
       "      <td>1.770838e-11</td>\n",
       "    </tr>\n",
       "    <tr>\n",
       "      <th>99</th>\n",
       "      <td>1.0</td>\n",
       "      <td>2.000000e+02</td>\n",
       "      <td>5.298317</td>\n",
       "      <td>8.269544e-12</td>\n",
       "      <td>8.854188e-12</td>\n",
       "    </tr>\n",
       "  </tbody>\n",
       "</table>\n",
       "<p>100 rows × 5 columns</p>\n",
       "</div>"
      ],
      "text/plain": [
       "    $q_B$  $\\Omega(N_B, q_B)$     $S/k_B$         $1/T$         $U_b$\n",
       "0   100.0        1.259990e+96  221.279273  1.713087e-12  8.854188e-10\n",
       "1    99.0        2.376346e+95  219.611148  1.723552e-12  8.765646e-10\n",
       "2    98.0        4.466929e+94  217.939700  1.734159e-12  8.677104e-10\n",
       "3    97.0        8.368317e+93  216.264866  1.744911e-12  8.588562e-10\n",
       "4    96.0        1.562317e+93  214.586583  1.755811e-12  8.500020e-10\n",
       "..    ...                 ...         ...           ...           ...\n",
       "95    5.0        3.091033e+09   21.851771  5.790643e-12  4.427094e-11\n",
       "96    4.0        7.286786e+07   18.104158  6.130970e-12  3.541675e-11\n",
       "97    3.0        1.394204e+06   14.147834  6.571896e-12  2.656256e-11\n",
       "98    2.0        2.030100e+04    9.918425  7.196445e-12  1.770838e-11\n",
       "99    1.0        2.000000e+02    5.298317  8.269544e-12  8.854188e-12\n",
       "\n",
       "[100 rows x 5 columns]"
      ]
     },
     "execution_count": 5,
     "metadata": {},
     "output_type": "execute_result"
    }
   ],
   "source": [
    "tabla_b = pd.DataFrame(datos_b, columns=[r\"$q_B$\", \"$\\Omega(N_B, q_B)$\", \"$S/k_B$\", \"$1/T$\", \"$U_b$\"])\n",
    "tabla_b"
   ]
  },
  {
   "cell_type": "code",
   "execution_count": 6,
   "metadata": {},
   "outputs": [
    {
     "data": {
      "image/png": "[encoded data removed]",
      "text/plain": [
       "<Figure size 936x360 with 1 Axes>"
      ]
     },
     "metadata": {
      "needs_background": "light"
     },
     "output_type": "display_data"
    }
   ],
   "source": [
    "plt.figure(figsize=(13,5))\n",
    "plt.plot(datos_a[:,0], datos_a[:,2], label=r\"Sólido A\")\n",
    "plt.plot(datos_a[:,0], datos_b[:,2], label=r\"Sólido B\")\n",
    "plt.plot(datos_a[:,0], datos_a[:,2]+datos_b[:,2], label=r\"Sistema $A+B$\")\n",
    "plt.xlabel(r\"$q_A$\"); plt.ylabel(r\"$S/K_B$\");\n",
    "plt.legend(); plt.show()"
   ]
  },
  {
   "cell_type": "code",
   "execution_count": 7,
   "metadata": {},
   "outputs": [
    {
     "data": {
      "image/png": "[encoded data removed]",
      "text/plain": [
       "<Figure size 936x360 with 1 Axes>"
      ]
     },
     "metadata": {
      "needs_background": "light"
     },
     "output_type": "display_data"
    }
   ],
   "source": [
    "plt.figure(figsize=(13,5))\n",
    "plt.plot(datos_a[:,3], datos_a[:,2], label=r\"Sólido A\")\n",
    "plt.plot(datos_a[:,3], datos_b[:,2], label=r\"Sólido B\")\n",
    "# plt.vlines(3.127e-12, 0, 250, colors='r', linestyles='solid', label=r'$1/T=3.127\\cdot 10^{-12}$')\n",
    "plt.plot(datos_a[:,3], datos_a[:,2]+datos_b[:,2])\n",
    "plt.xlabel(r\"$1/T$\"); plt.ylabel(r\"$S/K_B$\");\n",
    "plt.legend(); plt.show()"
   ]
  },
  {
   "cell_type": "code",
   "execution_count": 8,
   "metadata": {},
   "outputs": [
    {
     "data": {
      "text/plain": [
       "[<matplotlib.lines.Line2D at 0x192db3050d0>]"
      ]
     },
     "execution_count": 8,
     "metadata": {},
     "output_type": "execute_result"
    },
    {
     "data": {
      "image/png": "[encoded data removed]",
      "text/plain": [
       "<Figure size 432x288 with 1 Axes>"
      ]
     },
     "metadata": {
      "needs_background": "light"
     },
     "output_type": "display_data"
    }
   ],
   "source": [
    "# Se puede visualizar mejor la existencia del mínimo \n",
    "plt.plot(datos_a[:,3], abs(datos_a[:,2]-datos_b[:,2]), label=r\"Sólido B\")"
   ]
  },
  {
   "cell_type": "code",
   "execution_count": 9,
   "metadata": {},
   "outputs": [
    {
     "data": {
      "text/plain": [
       "1.1951059032814442"
      ]
     },
     "execution_count": 9,
     "metadata": {},
     "output_type": "execute_result"
    }
   ],
   "source": [
    "np.amin(abs(datos_a[:,2]-datos_b[:,2]))"
   ]
  },
  {
   "cell_type": "code",
   "execution_count": 10,
   "metadata": {},
   "outputs": [
    {
     "data": {
      "text/plain": [
       "(array([46], dtype=int64),)"
      ]
     },
     "execution_count": 10,
     "metadata": {},
     "output_type": "execute_result"
    }
   ],
   "source": [
    "result = np.where(abs(datos_a[:,2]-datos_b[:,2]) == np.amin(abs(datos_a[:,2]-datos_b[:,2])))\n",
    "result"
   ]
  },
  {
   "cell_type": "code",
   "execution_count": 13,
   "metadata": {},
   "outputs": [
    {
     "data": {
      "text/plain": [
       "'La temperatura donde las entropias son iguales es 1/T= 3.1173548923214494e-12'"
      ]
     },
     "execution_count": 13,
     "metadata": {},
     "output_type": "execute_result"
    }
   ],
   "source": [
    "f\"La temperatura donde las entropias son iguales es 1/T= {datos_a[result[0][0],3]}\""
   ]
  },
  {
   "cell_type": "code",
   "execution_count": 12,
   "metadata": {},
   "outputs": [
    {
     "data": {
      "text/plain": [
       "'La entropía total normalizada es: 280.75074296723295'"
      ]
     },
     "execution_count": 12,
     "metadata": {},
     "output_type": "execute_result"
    }
   ],
   "source": [
    "f\"La entropía total normalizada es: {datos_a[result[0][0],2]+ datos_b[result[0][0],2]}\""
   ]
  },
  {
   "cell_type": "code",
   "execution_count": null,
   "metadata": {},
   "outputs": [],
   "source": []
  }
 ],
 "metadata": {
  "kernelspec": {
   "display_name": "Python 3",
   "language": "python",
   "name": "python3"
  },
  "language_info": {
   "codemirror_mode": {
    "name": "ipython",
    "version": 3
   },
   "file_extension": ".py",
   "mimetype": "text/x-python",
   "name": "python",
   "nbconvert_exporter": "python",
   "pygments_lexer": "ipython3",
   "version": "3.8.3"
  },
  "latex_envs": {
   "LaTeX_envs_menu_present": true,
   "autoclose": false,
   "autocomplete": false,
   "bibliofile": "biblio.bib",
   "cite_by": "apalike",
   "current_citInitial": 1,
   "eqLabelWithNumbers": true,
   "eqNumInitial": 1,
   "hotkeys": {
    "equation": "Ctrl-E",
    "itemize": "Ctrl-I"
   },
   "labels_anchors": false,
   "latex_user_defs": false,
   "report_style_numbering": true,
   "user_envs_cfg": true
  }
 },
 "nbformat": 4,
 "nbformat_minor": 4
}
