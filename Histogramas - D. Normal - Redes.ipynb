{
 "cells": [
  {
   "cell_type": "code",
   "execution_count": 63,
   "id": "d4931816",
   "metadata": {},
   "outputs": [],
   "source": [
    "import matplotlib.pyplot as plt\n",
    "import seaborn as sns\n",
    "# ^^^ pyforest auto-imports - don't write above this line\n",
    "import numpy as np\n",
    "import matplotlib.pyplot as plt\n",
    "import seaborn as sns"
   ]
  },
  {
   "cell_type": "code",
   "execution_count": 2,
   "id": "82a6b163",
   "metadata": {},
   "outputs": [
    {
     "data": {
      "application/javascript": [
       "\n",
       "        if (window._pyforest_update_imports_cell) { window._pyforest_update_imports_cell('import matplotlib.pyplot as plt\\nimport seaborn as sns'); }\n",
       "    "
      ],
      "text/plain": [
       "<IPython.core.display.Javascript object>"
      ]
     },
     "metadata": {},
     "output_type": "display_data"
    },
    {
     "data": {
      "application/javascript": [
       "\n",
       "        if (window._pyforest_update_imports_cell) { window._pyforest_update_imports_cell('import matplotlib.pyplot as plt\\nimport seaborn as sns'); }\n",
       "    "
      ],
      "text/plain": [
       "<IPython.core.display.Javascript object>"
      ]
     },
     "metadata": {},
     "output_type": "display_data"
    },
    {
     "data": {
      "application/javascript": [
       "\n",
       "        if (window._pyforest_update_imports_cell) { window._pyforest_update_imports_cell('import matplotlib.pyplot as plt\\nimport seaborn as sns'); }\n",
       "    "
      ],
      "text/plain": [
       "<IPython.core.display.Javascript object>"
      ]
     },
     "metadata": {},
     "output_type": "display_data"
    },
    {
     "data": {
      "application/javascript": [
       "\n",
       "        if (window._pyforest_update_imports_cell) { window._pyforest_update_imports_cell('import matplotlib.pyplot as plt\\nimport seaborn as sns'); }\n",
       "    "
      ],
      "text/plain": [
       "<IPython.core.display.Javascript object>"
      ]
     },
     "metadata": {},
     "output_type": "display_data"
    },
    {
     "data": {
      "text/plain": [
       "Text(0.5, 1.0, 'Número de conexiones')"
      ]
     },
     "execution_count": 2,
     "metadata": {},
     "output_type": "execute_result"
    },
    {
     "data": {
      "image/png": "[encoded data removed]",
      "text/plain": [
       "<Figure size 360x360 with 1 Axes>"
      ]
     },
     "metadata": {
      "needs_background": "light"
     },
     "output_type": "display_data"
    }
   ],
   "source": [
    "k = np.array([3,4,3,2,1,3,0])\n",
    "\n",
    "sns.displot(data=k,  stat='frequency', binrange=(0,4), bins=16, discrete=1)\n",
    "plt.xlabel(r\"$k_i$\", fontsize=13)\n",
    "plt.ylabel(r\"Count\", fontsize=13)\n",
    "plt.title(r\"Número de conexiones\", fontsize=16)"
   ]
  },
  {
   "cell_type": "code",
   "execution_count": 17,
   "id": "972c2dac",
   "metadata": {},
   "outputs": [
    {
     "data": {
      "application/javascript": [
       "\n",
       "        if (window._pyforest_update_imports_cell) { window._pyforest_update_imports_cell('import matplotlib.pyplot as plt\\nimport seaborn as sns'); }\n",
       "    "
      ],
      "text/plain": [
       "<IPython.core.display.Javascript object>"
      ]
     },
     "metadata": {},
     "output_type": "display_data"
    },
    {
     "data": {
      "application/javascript": [
       "\n",
       "        if (window._pyforest_update_imports_cell) { window._pyforest_update_imports_cell('import matplotlib.pyplot as plt\\nimport seaborn as sns'); }\n",
       "    "
      ],
      "text/plain": [
       "<IPython.core.display.Javascript object>"
      ]
     },
     "metadata": {},
     "output_type": "display_data"
    },
    {
     "data": {
      "application/javascript": [
       "\n",
       "        if (window._pyforest_update_imports_cell) { window._pyforest_update_imports_cell('import matplotlib.pyplot as plt\\nimport seaborn as sns'); }\n",
       "    "
      ],
      "text/plain": [
       "<IPython.core.display.Javascript object>"
      ]
     },
     "metadata": {},
     "output_type": "display_data"
    },
    {
     "data": {
      "text/plain": [
       "Text(0.5, 1.0, '$k_i^{out}$')"
      ]
     },
     "execution_count": 17,
     "metadata": {},
     "output_type": "execute_result"
    },
    {
     "data": {
      "image/png": "[encoded data removed]",
      "text/plain": [
       "<Figure size 576x360 with 2 Axes>"
      ]
     },
     "metadata": {
      "needs_background": "light"
     },
     "output_type": "display_data"
    }
   ],
   "source": [
    "k_in  = np.array([1,1,1,1,3])\n",
    "k_out = np.array([1,1,2,1,2])\n",
    "\n",
    "fig, axes = plt.subplots(1, 2, figsize=(8, 5), sharey=True)\n",
    "sns.histplot(ax= axes[0], data=k_in,  stat='frequency', binrange=(0,4), bins=16, discrete=1)\n",
    "# axes[0].xlabel(r\"$k_i^{in}$\", fontsize=13)\n",
    "# axes[0].ylabel(r\"Count\", fontsize=13)\n",
    "axes[0].set_title(r\"$k_i^{in}$\", fontsize=16)\n",
    "# -------------------------------------\n",
    "sns.histplot(ax=axes[1], data=k_out, stat='frequency', binrange=(0,4), bins=16, discrete=1)\n",
    "axes[1].set_title(r\"$k_i^{out}$\", fontsize=16)"
   ]
  },
  {
   "cell_type": "code",
   "execution_count": 30,
   "id": "f17992c4",
   "metadata": {},
   "outputs": [
    {
     "data": {
      "application/javascript": [
       "\n",
       "        if (window._pyforest_update_imports_cell) { window._pyforest_update_imports_cell('import matplotlib.pyplot as plt\\nimport seaborn as sns'); }\n",
       "    "
      ],
      "text/plain": [
       "<IPython.core.display.Javascript object>"
      ]
     },
     "metadata": {},
     "output_type": "display_data"
    },
    {
     "data": {
      "application/javascript": [
       "\n",
       "        if (window._pyforest_update_imports_cell) { window._pyforest_update_imports_cell('import matplotlib.pyplot as plt\\nimport seaborn as sns'); }\n",
       "    "
      ],
      "text/plain": [
       "<IPython.core.display.Javascript object>"
      ]
     },
     "metadata": {},
     "output_type": "display_data"
    },
    {
     "data": {
      "text/plain": [
       "Text(0.5, 1.0, '$s_i$')"
      ]
     },
     "execution_count": 30,
     "metadata": {},
     "output_type": "execute_result"
    },
    {
     "data": {
      "image/png": "[encoded data removed]",
      "text/plain": [
       "<Figure size 360x360 with 1 Axes>"
      ]
     },
     "metadata": {
      "needs_background": "light"
     },
     "output_type": "display_data"
    }
   ],
   "source": [
    "s = np.array([0.8,1.25,0.95,1.1,0.6])\n",
    "\n",
    "sns.displot(data=s, stat='frequency', binrange=(0.5,1.3), bins=32, discrete=0)\n",
    "# plt.xlabel(r\"$k_i$\", fontsize=13)\n",
    "# plt.ylabel(r\"Count\", fontsize=13)\n",
    "plt.title(r\"$s_i$\", fontsize=16)"
   ]
  },
  {
   "cell_type": "code",
   "execution_count": 64,
   "id": "39c4c73d",
   "metadata": {},
   "outputs": [
    {
     "name": "stderr",
     "output_type": "stream",
     "text": [
      "C:\\ProgramData\\Anaconda3\\envs\\main_env\\lib\\site-packages\\seaborn\\_decorators.py:36: FutureWarning: Pass the following variables as keyword args: x, y. From version 0.12, the only valid positional argument will be `data`, and passing other arguments without an explicit keyword will result in an error or misinterpretation.\n",
      "  warnings.warn(\n"
     ]
    },
    {
     "data": {
      "text/plain": [
       "Text(0, 0.5, 'Probability Density')"
      ]
     },
     "execution_count": 64,
     "metadata": {},
     "output_type": "execute_result"
    },
    {
     "data": {
      "image/png": "[encoded data removed]",
      "text/plain": [
       "<Figure size 432x288 with 1 Axes>"
      ]
     },
     "metadata": {},
     "output_type": "display_data"
    }
   ],
   "source": [
    "from scipy.stats import norm\n",
    " \n",
    "# Creating the distribution\n",
    "data = np.arange(-10,60,0.01)\n",
    "pdf = norm.pdf(data , loc = 25 , scale = 10 )\n",
    " \n",
    "#Visualizing the distribution\n",
    " \n",
    "sns.set_style('whitegrid')\n",
    "sns.lineplot(data, pdf , color = 'black')\n",
    "plt.xlabel('Heights')\n",
    "plt.ylabel('Probability Density')"
   ]
  },
  {
   "cell_type": "code",
   "execution_count": 65,
   "id": "7f578e35",
   "metadata": {},
   "outputs": [
    {
     "name": "stderr",
     "output_type": "stream",
     "text": [
      "C:\\ProgramData\\Anaconda3\\envs\\main_env\\lib\\site-packages\\seaborn\\_decorators.py:36: FutureWarning: Pass the following variables as keyword args: x, y. From version 0.12, the only valid positional argument will be `data`, and passing other arguments without an explicit keyword will result in an error or misinterpretation.\n",
      "  warnings.warn(\n"
     ]
    },
    {
     "data": {
      "text/plain": [
       "Text(0, 0.5, 'Probability Density')"
      ]
     },
     "execution_count": 65,
     "metadata": {},
     "output_type": "execute_result"
    },
    {
     "data": {
      "image/png": "[encoded data removed]",
      "text/plain": [
       "<Figure size 432x288 with 1 Axes>"
      ]
     },
     "metadata": {},
     "output_type": "display_data"
    }
   ],
   "source": [
    "# Creating the distribution\n",
    "data = np.arange(-0.075,0.10,0.001)\n",
    "pdf = norm.pdf(data , loc = 0.015 , scale = 0.027 )\n",
    " \n",
    "#Visualizing the distribution\n",
    " \n",
    "sns.set_style('whitegrid')\n",
    "sns.lineplot(data, pdf , color = 'black')\n",
    "plt.scatter(-0.0025, norm.pdf(-0.0025 , loc = 0.015 , scale = 0.027 ) , color = 'black')\n",
    "plt.xlabel('Heights')\n",
    "plt.ylabel('Probability Density')"
   ]
  },
  {
   "cell_type": "code",
   "execution_count": 60,
   "id": "ac800e1e",
   "metadata": {},
   "outputs": [],
   "source": [
    "a = norm(loc = 38 , scale = 4).cdf(35)     # probabilidad de obtener x < 35\n",
    "b = 1-norm(loc = 38 , scale = 4).cdf(35)   # probabilidad de obtener 35 < x\n",
    "c = norm(loc = 38 , scale = 4).cdf(39)-norm(loc = 38 , scale = 4).cdf(32)   # probabilidad de obtener 32 < x < 39"
   ]
  },
  {
   "cell_type": "code",
   "execution_count": 61,
   "id": "a735183f",
   "metadata": {},
   "outputs": [
    {
     "name": "stdout",
     "output_type": "stream",
     "text": [
      "0.2266273523768682 0.7733726476231317 0.5318991244140656\n"
     ]
    }
   ],
   "source": [
    "print(a,b,c)"
   ]
  },
  {
   "cell_type": "code",
   "execution_count": 67,
   "id": "dfadb18f",
   "metadata": {},
   "outputs": [
    {
     "data": {
      "text/plain": [
       "0.9750021048517795"
      ]
     },
     "execution_count": 67,
     "metadata": {},
     "output_type": "execute_result"
    }
   ],
   "source": [
    "norm(loc = 0 , scale = 1).cdf(1.96)     # probabilidad de obtener x < M"
   ]
  },
  {
   "cell_type": "code",
   "execution_count": 31,
   "id": "e42fe09a",
   "metadata": {},
   "outputs": [],
   "source": [
    "import networkx as nx"
   ]
  },
  {
   "cell_type": "code",
   "execution_count": 112,
   "id": "c13e7cb0",
   "metadata": {},
   "outputs": [
    {
     "data": {
      "text/plain": [
       "{1: Text(-0.22166290048165427, -0.1894943731656996, '1'),\n",
       " 2: Text(-0.18559184846779303, 0.9976227419343893, '2'),\n",
       " 3: Text(-0.943645988046322, 0.3759736528215739, '3'),\n",
       " 4: Text(0.18578481668499874, -1.0, '4'),\n",
       " 5: Text(0.22250052711172083, 0.18452962089421918, '5'),\n",
       " 6: Text(0.9143714414335763, 0.7577961023801294, '6')}"
      ]
     },
     "execution_count": 112,
     "metadata": {},
     "output_type": "execute_result"
    },
    {
     "data": {
      "image/png": "[encoded data removed]",
      "text/plain": [
       "<Figure size 432x288 with 1 Axes>"
      ]
     },
     "metadata": {},
     "output_type": "display_data"
    }
   ],
   "source": [
    "G = nx.cubical_graph()\n",
    "pos = nx.spring_layout(G, seed=31137942)  # positions for all nodes\n",
    "\n",
    "# nodes\n",
    "options = {\"edgecolors\": \"tab:gray\", \"node_size\": 800, \"alpha\": 0.9}\n",
    "nx.draw_networkx_nodes(G, pos, nodelist=[1,2,3,4,5,6],\n",
    "                       node_color=\"tab:purple\", **options)\n",
    "\n",
    "# edges\n",
    "nx.draw_networkx_edges(\n",
    "    G,\n",
    "    pos,\n",
    "    edgelist=[(1,3),(2,3),(2,4),(2,5),(3,4),(3,5),(4,5),(5,6)],\n",
    "    width=1,\n",
    "    alpha=1)\n",
    "\n",
    "# labels\n",
    "labels = {1:\"1\",2:\"2\",3:\"3\",4:\"4\",5:\"5\",6:\"6\"}\n",
    "nx.draw_networkx_labels(G, pos, labels, font_size=22, font_color=\"whitesmoke\")"
   ]
  },
  {
   "cell_type": "code",
   "execution_count": 138,
   "id": "2435a7f0",
   "metadata": {},
   "outputs": [
    {
     "name": "stdout",
     "output_type": "stream",
     "text": [
      "7\n",
      "8\n",
      "9\n",
      "10\n",
      "11\n"
     ]
    },
    {
     "data": {
      "text/plain": [
       "{7: Text(-0.001189709226983098, -0.21699762435565623, '7'),\n",
       " 8: Text(-0.48751370222123924, -0.9854725422892466, '8'),\n",
       " 9: Text(-0.999985112617512, 0.12201956258910342, '9'),\n",
       " 10: Text(-0.1505757228630197, 0.8933490021218593, '10'),\n",
       " 11: Text(0.8739552507879506, 0.38763247818083235, '11')}"
      ]
     },
     "execution_count": 138,
     "metadata": {},
     "output_type": "execute_result"
    },
    {
     "data": {
      "image/png": "[encoded data removed]",
      "text/plain": [
       "<Figure size 432x288 with 1 Axes>"
      ]
     },
     "metadata": {},
     "output_type": "display_data"
    }
   ],
   "source": [
    "G = nx.icosahedral_graph()\n",
    "pos = nx.spring_layout(G, seed=314413742)  # positions for all nodes\n",
    "\n",
    "# nodes\n",
    "options = {\"edgecolors\": \"tab:gray\", \"node_size\": 800, \"alpha\": 0.9}\n",
    "nx.draw_networkx_nodes(G, pos, nodelist=[7,8,9,10,11], node_color=\"tab:green\", **options)\n",
    "\n",
    "# edges\n",
    "nx.draw_networkx_edges(\n",
    "    G,\n",
    "    pos,\n",
    "    edgelist=[(7,8),(7,9),(8,9),(9,10),(9,11)],\n",
    "    width=1,\n",
    "    alpha=1)\n",
    "\n",
    "# labels\n",
    "labels2 = {}\n",
    "for i in range(7, 11+1):\n",
    "    labels2[i] = f\"{i}\"\n",
    "    print(labels2[i])\n",
    "    \n",
    "nx.draw_networkx_labels(G, pos, labels2, font_size=20, font_color=\"whitesmoke\")\n"
   ]
  },
  {
   "cell_type": "code",
   "execution_count": 147,
   "id": "58082be6",
   "metadata": {},
   "outputs": [
    {
     "data": {
      "text/plain": [
       "(matrix([[1, 0, 1, 0, 0, 0],\n",
       "         [0, 1, 1, 1, 1, 0],\n",
       "         [1, 1, 3, 1, 1, 0],\n",
       "         [0, 1, 1, 2, 1, 0],\n",
       "         [0, 1, 1, 1, 2, 1],\n",
       "         [0, 0, 0, 0, 1, 1]]),\n",
       " matrix([[2, 1, 1, 0, 0],\n",
       "         [1, 1, 1, 0, 0],\n",
       "         [1, 1, 4, 1, 1],\n",
       "         [0, 0, 1, 1, 0],\n",
       "         [0, 0, 1, 0, 2]]))"
      ]
     },
     "execution_count": 147,
     "metadata": {},
     "output_type": "execute_result"
    }
   ],
   "source": [
    "A = np.matrix([[1,0,1,0,0,0],\n",
    "          [0,0,1,0,0,0],\n",
    "          [0,1,1,1,1,0],\n",
    "          [0,0,0,1,0,0],\n",
    "          [0,0,0,0,1,1]])\n",
    "A.T * A, A * A.T"
   ]
  },
  {
   "cell_type": "code",
   "execution_count": 156,
   "id": "072b89a5",
   "metadata": {},
   "outputs": [],
   "source": [
    "A = np.matrix([\n",
    "     [0,0,1,1,0,1,0],\n",
    "     [0,0,1,1,1,1,0],\n",
    "     [1,1,0,0,0,1,0],\n",
    "     [1,1,0,0,0,0,0],\n",
    "     [0,1,0,0,0,0,0],\n",
    "     [1,1,1,0,0,0,0],\n",
    "     [0,0,0,0,0,0,0]])\n",
    "I = np.matrix([1,1,1,1,1,1,1])"
   ]
  },
  {
   "cell_type": "code",
   "execution_count": 196,
   "id": "ade05e76",
   "metadata": {},
   "outputs": [
    {
     "data": {
      "text/plain": [
       "(matrix([[3],\n",
       "         [4],\n",
       "         [3],\n",
       "         [2],\n",
       "         [1],\n",
       "         [3],\n",
       "         [0]]),\n",
       " matrix([[8.]]))"
      ]
     },
     "execution_count": 196,
     "metadata": {},
     "output_type": "execute_result"
    }
   ],
   "source": [
    "A.dot(I.T), I.dot(A.dot(I.T))/2"
   ]
  },
  {
   "cell_type": "code",
   "execution_count": 198,
   "id": "433fb3c0",
   "metadata": {},
   "outputs": [],
   "source": [
    "k = A.dot(I.T)"
   ]
  },
  {
   "cell_type": "code",
   "execution_count": 210,
   "id": "3a5e60d6",
   "metadata": {},
   "outputs": [
    {
     "data": {
      "text/plain": [
       "array([2, 2, 4, 0, 0, 4, 0])"
      ]
     },
     "execution_count": 210,
     "metadata": {},
     "output_type": "execute_result"
    }
   ],
   "source": [
    "np.diagonal(A * A * A)"
   ]
  },
  {
   "cell_type": "code",
   "execution_count": 212,
   "id": "4df54c5a",
   "metadata": {},
   "outputs": [
    {
     "data": {
      "text/plain": [
       "2.0"
      ]
     },
     "execution_count": 212,
     "metadata": {},
     "output_type": "execute_result"
    }
   ],
   "source": [
    "np.trace(A * A * A)/6"
   ]
  },
  {
   "cell_type": "code",
   "execution_count": null,
   "id": "71f1d933",
   "metadata": {},
   "outputs": [],
   "source": []
  }
 ],
 "metadata": {
  "kernelspec": {
   "display_name": "Python 3 (ipykernel)",
   "language": "python",
   "name": "python3"
  },
  "language_info": {
   "codemirror_mode": {
    "name": "ipython",
    "version": 3
   },
   "file_extension": ".py",
   "mimetype": "text/x-python",
   "name": "python",
   "nbconvert_exporter": "python",
   "pygments_lexer": "ipython3",
   "version": "3.9.12"
  },
  "latex_envs": {
   "LaTeX_envs_menu_present": true,
   "autoclose": false,
   "autocomplete": false,
   "bibliofile": "biblio.bib",
   "cite_by": "apalike",
   "current_citInitial": 1,
   "eqLabelWithNumbers": true,
   "eqNumInitial": 1,
   "hotkeys": {
    "equation": "Ctrl-E",
    "itemize": "Ctrl-I"
   },
   "labels_anchors": false,
   "latex_user_defs": false,
   "report_style_numbering": true,
   "user_envs_cfg": true
  },
  "varInspector": {
   "cols": {
    "lenName": 16,
    "lenType": 16,
    "lenVar": 40
   },
   "kernels_config": {
    "python": {
     "delete_cmd_postfix": "",
     "delete_cmd_prefix": "del ",
     "library": "var_list.py",
     "varRefreshCmd": "print(var_dic_list())"
    },
    "r": {
     "delete_cmd_postfix": ") ",
     "delete_cmd_prefix": "rm(",
     "library": "var_list.r",
     "varRefreshCmd": "cat(var_dic_list()) "
    }
   },
   "types_to_exclude": [
    "module",
    "function",
    "builtin_function_or_method",
    "instance",
    "_Feature"
   ],
   "window_display": false
  }
 },
 "nbformat": 4,
 "nbformat_minor": 5
}
