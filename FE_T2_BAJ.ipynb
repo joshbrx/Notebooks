{
 "cells": [
  {
   "cell_type": "markdown",
   "metadata": {},
   "source": [
    "# Física Estadística: _Tarea 2_\n",
    "\n",
    "### Briones Andrade Joshua"
   ]
  },
  {
   "cell_type": "code",
   "execution_count": 1,
   "metadata": {},
   "outputs": [],
   "source": [
    "import numpy as np\n",
    "import pandas as pd\n",
    "import matplotlib.pyplot as plt\n",
    "import random"
   ]
  },
  {
   "cell_type": "markdown",
   "metadata": {},
   "source": [
    "### Ejercicio 1: Histogramas\n",
    "\n",
    "Para cada una de las tres series de datos que se postearon en el blog del curso:\n",
    "\n",
    "__a)__ Calcula los primeros cuatro momentos de las distribuciones."
   ]
  },
  {
   "cell_type": "code",
   "execution_count": 40,
   "metadata": {},
   "outputs": [
    {
     "data": {
      "text/plain": [
       "array([[ 0.20743293],\n",
       "       [ 0.31529876],\n",
       "       [-0.84292896],\n",
       "       ...,\n",
       "       [-0.6920295 ],\n",
       "       [ 0.48633856],\n",
       "       [-0.22326365]])"
      ]
     },
     "execution_count": 40,
     "metadata": {},
     "output_type": "execute_result"
    }
   ],
   "source": [
    "dist = [];\n",
    "for i in range(3):\n",
    "    dist.append(pd.read_csv(\"Distribucion\"+str(i+1)+\".txt\", header=None).to_numpy())\n",
    "dist[0]"
   ]
  },
  {
   "cell_type": "code",
   "execution_count": 86,
   "metadata": {},
   "outputs": [],
   "source": [
    "\"\"\"\n",
    "Definimos dos funciones, con la primera calculamos los momentos y con la segunda calculamos \n",
    "parámetros como \"skewness\" y la \"kurtosis\"\"\n",
    "\"\"\"\n",
    "\n",
    "def momento(dist, n):\n",
    "    m = dist - np.mean(dist)\n",
    "    return np.sum(m**n/100000.0)\n",
    "\n",
    "def momento_mod(dist, n):\n",
    "    m = dist - np.mean(dist)\n",
    "    s = np.sqrt(momento(dist,2))\n",
    "    if n > 2: \n",
    "        t = np.sum(m**n/(100000.0*s**n))\n",
    "    else:\n",
    "        t = np.sum(m**n/100000.0)\n",
    "    return t"
   ]
  },
  {
   "cell_type": "code",
   "execution_count": 87,
   "metadata": {},
   "outputs": [
    {
     "name": "stdout",
     "output_type": "stream",
     "text": [
      "Distribución 1:\n",
      "   Momento 0: 1.0\n",
      "   Momento 1: 2.416415591927068e-17\n",
      "   Momento 2: 0.3329636080340709\n",
      "   Momento 3: 0.000677868468634469\n",
      "   Momento 4: 0.19996847004342042\n",
      "\n",
      "Distribución 2:\n",
      "   Momento 0: 1.0\n",
      "   Momento 1: 2.347297703431117e-16\n",
      "   Momento 2: 3.975807504880251\n",
      "   Momento 3: 0.010835119461595476\n",
      "   Momento 4: 47.39797842149806\n",
      "\n",
      "Distribución 3:\n",
      "   Momento 0: 1.0\n",
      "   Momento 1: -5.551115123125783e-17\n",
      "   Momento 2: 96583.51398287427\n",
      "   Momento 3: 5937360901.740389\n",
      "   Momento 4: 553804973542506.44\n",
      "\n"
     ]
    }
   ],
   "source": [
    "for i in range(3):\n",
    "    print(f\"Distribución {i+1}:\")\n",
    "    for k in range(5):\n",
    "          print(f\"   Momento {k}: {momento(dist[i], k)}\")\n",
    "    print()"
   ]
  },
  {
   "cell_type": "code",
   "execution_count": 90,
   "metadata": {},
   "outputs": [
    {
     "name": "stdout",
     "output_type": "stream",
     "text": [
      "Distribución 1:\n",
      "   Momento 0: 1.0\n",
      "   Momento 1: 2.416415591927068e-17\n",
      "   Varianza: 0.3329636080340709\n",
      "   Skewness: 0.0035281763097291426\n",
      "   Kurtosis: 1.803715286376101\n",
      "\n",
      "Distribución 2:\n",
      "   Momento 0: 1.0\n",
      "   Momento 1: 2.347297703431117e-16\n",
      "   Varianza: 3.975807504880251\n",
      "   Skewness: 0.001366770763314398\n",
      "   Kurtosis: 2.998534987050042\n",
      "\n",
      "Distribución 3:\n",
      "   Momento 0: 1.0\n",
      "   Momento 1: -5.551115123125783e-17\n",
      "   Varianza: 96583.51398287427\n",
      "   Skewness: 197.80576503809388\n",
      "   Kurtosis: 59367.785198949714\n",
      "\n"
     ]
    }
   ],
   "source": [
    "names = [\"Momento 0\", \"Momento 1\", \"Varianza\", \"Skewness\", \"Kurtosis\"]\n",
    "\n",
    "for i in range(3):\n",
    "    print(f\"Distribución {i+1}:\")\n",
    "    for k in range(5):\n",
    "          print(f\"   {names[k]}: {momento_mod(dist[i], k)}\")\n",
    "    print()"
   ]
  },
  {
   "cell_type": "markdown",
   "metadata": {},
   "source": [
    "__b)__ Construye histogramas de cada distribución. (Pista: para la serie de datos #3, construye un\n",
    "histograma con 200 bins, donde el primer bin del histograma comience en -500, y el tamaño de los bins sea igual a 5. Gráfica este histograma en escala semilogarítmica.)"
   ]
  },
  {
   "cell_type": "code",
   "execution_count": 114,
   "metadata": {},
   "outputs": [
    {
     "data": {
      "image/png": "[encoded data removed]",
      "text/plain": [
       "<Figure size 432x288 with 1 Axes>"
      ]
     },
     "metadata": {
      "needs_background": "light"
     },
     "output_type": "display_data"
    }
   ],
   "source": [
    "plt.hist(x=dist[0], bins=\"auto\", color='#0504aa',\n",
    "                            alpha=0.7, rwidth=0.85)\n",
    "plt.grid(axis='y', alpha=0.75); plt.title('Distribución 1'); plt.plot();"
   ]
  },
  {
   "cell_type": "code",
   "execution_count": 115,
   "metadata": {},
   "outputs": [
    {
     "data": {
      "image/png": "[encoded data removed]",
      "text/plain": [
       "<Figure size 432x288 with 1 Axes>"
      ]
     },
     "metadata": {
      "needs_background": "light"
     },
     "output_type": "display_data"
    }
   ],
   "source": [
    "plt.hist(x=dist[1], bins=\"auto\", color='#0504aa',\n",
    "                            alpha=0.7, rwidth=0.85)\n",
    "plt.grid(axis='y', alpha=0.75); plt.title('Distribución 2'); plt.plot();"
   ]
  },
  {
   "cell_type": "code",
   "execution_count": 116,
   "metadata": {},
   "outputs": [
    {
     "data": {
      "image/png": "[encoded data removed]",
      "text/plain": [
       "<Figure size 432x288 with 1 Axes>"
      ]
     },
     "metadata": {
      "needs_background": "light"
     },
     "output_type": "display_data"
    }
   ],
   "source": [
    "plt.hist(x=dist[2], bins=200, range=(-500,500), color='#0504aa',\n",
    "                            alpha=0.7, rwidth=0.85, log=True)\n",
    "plt.grid(axis='y', alpha=0.75); plt.title('Distribución 3 (Semi-log)'); plt.plot();"
   ]
  },
  {
   "cell_type": "markdown",
   "metadata": {},
   "source": [
    "__c)__ ¿A qué distribución es probable que corresponda cada una de estas series de datos? Justifica\n",
    "tu respuesta."
   ]
  },
  {
   "cell_type": "markdown",
   "metadata": {},
   "source": [
    "- Para la serie __#1__, le podemos asociar una __distribución uniforme__, ya que estan muy bien distribuidos en el intervalo $[-1,1]$ como se puede ver en la gráfica.\n",
    "\n",
    "- Para la serie __#2__, se le asigna una __distribución normal__, ya que se puede ver que tiene un \"skewness\" de $0$ y una kurtosis muy cercana a $3$ por lo que puede ser considerada una distribución normal.\n",
    "\n",
    "- Para la serie __#3__, se asocia una __distribución de Cauchy__, esto es porque los momentos normalizados \"explotan\" por lo que no están bien definidas justo como una distribución de cola pesada."
   ]
  },
  {
   "cell_type": "markdown",
   "metadata": {},
   "source": [
    "### Ejercicio 2: Distribuciones\n",
    "\n",
    "Mostrar que:\n",
    "\n",
    "__a)__ \n",
    "\\begin{equation}\n",
    "\\langle x\\rangle_{N(\\mu,\\sigma)}\\equiv \\int_{-\\infty}^{\\infty} xN(x,\\mu,\\sigma)dx=\\mu\n",
    "\\end{equation}"
   ]
  },
  {
   "cell_type": "markdown",
   "metadata": {},
   "source": [
    "____\n",
    "\\begin{equation*}\n",
    "\\langle x\\rangle_{N(\\mu,\\sigma)}\\equiv \\int_{-\\infty}^{\\infty} xN(x,\\mu,\\sigma)dx=\n",
    "\\frac{1}{\\sqrt{2\\pi\\sigma^2}}\\int_{-\\infty}^{\\infty} xe^{-\\frac{(x-\\mu)^2}{2\\sigma^2}}dx\n",
    "\\end{equation*}\n",
    "\n",
    "Hacemos un cambio de variable $z=\\frac{x-\\mu}{\\sqrt{2}\\sigma}$, entonces $dx=\\sqrt{2}\\sigma dz$ y continuamos con la integral\n",
    "\n",
    "\\begin{align*}\n",
    "\\int_{-\\infty}^{\\infty} xe^{-\\frac{(x-\\mu)^2}{2\\sigma^2}}dx &= \n",
    "\\sqrt{2}\\sigma\\int_{-\\infty}^{\\infty} \\left(\\sqrt{2}\\sigma z+\\mu\\right)e^{-z^2}dz=\n",
    "2\\sigma^2\\left(\\int_{-\\infty}^{\\infty} ze^{-z^2}dz\\right)+\n",
    "\\sqrt{2}\\sigma\\mu\\left(\\int_{-\\infty}^{\\infty} e^{-z^2}dz\\right)=\\dots\\\\\n",
    "\\dots &= 2\\sigma^2\\left(0\\right)+\\sqrt{2}\\sigma\\mu\\left(\\sqrt{\\pi}\\right)= \\sqrt{2\\pi\\sigma^2}\\mu\n",
    "\\end{align*}\n",
    "\n",
    "Sustituimos este resultado en $\\langle x\\rangle_{N(\\mu,\\sigma)}$\n",
    "\n",
    "\\begin{equation*}\n",
    "\\langle x\\rangle_{N(\\mu,\\sigma)}=\n",
    "\\frac{1}{\\sqrt{2\\pi\\sigma^2}}\\left(\\int_{-\\infty}^{\\infty} xe^{-\\frac{(x-\\mu)^2}{2\\sigma^2}}dx\\right)=\n",
    "\\frac{1}{\\sqrt{2\\pi\\sigma^2}}\\left(\\sqrt{2\\pi\\sigma^2}\\mu\\right)= \\mu\n",
    "\\end{equation*}\n",
    "\n",
    "Por lo tanto\n",
    "\n",
    "\\begin{equation*}\n",
    "\\boxed{\\langle x\\rangle_{N(\\mu,\\sigma)}=\\mu}\\quad\\ \\text{a)}\n",
    "\\end{equation*}"
   ]
  },
  {
   "cell_type": "markdown",
   "metadata": {},
   "source": [
    "_____\n",
    "__b)__ (Nota: Resuelve por partes)\n",
    "\\begin{equation}\n",
    "\\langle (x-\\mu)^2\\rangle_{N(\\mu,\\sigma)}\\equiv \\int_{-\\infty}^{\\infty} (x-\\mu)^2N(x,\\mu,\\sigma)dx=\\sigma^2\n",
    "\\end{equation}"
   ]
  },
  {
   "cell_type": "markdown",
   "metadata": {},
   "source": [
    "_____\n",
    "\n",
    "\\begin{align*}\n",
    "\\langle (x-\\mu)^2\\rangle_{N(\\mu,\\sigma)} &\\equiv \n",
    "\\int_{-\\infty}^{\\infty} (x-\\mu)^2N(x,\\mu,\\sigma)dx=\n",
    "\\frac{1}{\\sqrt{2\\pi\\sigma^2}}\\int_{-\\infty}^{\\infty} (x-\\mu)^2e^{-\\frac{(x-\\mu)^2}{2\\sigma^2}}dx\n",
    "\\end{align*}\n",
    "\n",
    "Hacemos un cambio de variable $z=\\frac{x-\\mu}{\\sqrt{2}\\sigma}$, entonces $dx=\\sqrt{2}\\sigma dz$ y resolvemos la integral por separado.\n",
    "\n",
    "\\begin{align*}\n",
    "\\int_{-\\infty}^{\\infty} (x-\\mu)^2e^{-\\frac{(x-\\mu)^2}{2\\sigma^2}}dx &=\n",
    "\\sqrt{2}\\sigma\\int_{-\\infty}^{\\infty} \\left(\\sqrt{2}\\sigma z\\right)^2e^{-z^2}dz =\n",
    "\\sqrt{2}\\sigma\\int_{-\\infty}^{\\infty} \\left(2\\sigma^2z^2\\right)e^{-z^2}dz =\n",
    "2^{3/2}\\sigma^3\\int_{-\\infty}^{\\infty} z^2e^{-z^2}dz \n",
    "\\end{align*}\n",
    "\n",
    "Y recordando el método de integración por partes, se tiene que \n",
    "\n",
    "\\begin{equation*}\n",
    "\\int udv=uv-\\int vdu\n",
    "\\end{equation*}\n",
    "\n",
    "En este caso $u=z$ y $dv=ze^{-z^2}dz$, entonces $du=dz$ y $v=-\\frac{e^{-z^2}}{2}$, por lo que\n",
    "\n",
    "\\begin{align*}\n",
    "2^{3/2}\\sigma^3\\int_{-\\infty}^{\\infty} z^2e^{-z^2}dz = \n",
    "2^{3/2}\\sigma^3\\left[-\\frac{ze^{-z^2}}{2}\\bigg|_{-\\infty}^{\\infty}+\n",
    "\\frac{1}{2}\\int_{-\\infty}^{\\infty} e^{-z^2}dz\\right] =\n",
    "2^{3/2}\\sigma^3\\left[-(0)+ \\frac{1}{2}\\left(\\sqrt{\\pi}\\right)\\right]=\n",
    "\\sqrt{2\\pi}\\sigma^3\n",
    "\\end{align*}\n",
    "\n",
    "Sustituimos este resultado en $\\langle (x-\\mu)^2\\rangle_{N(\\mu,\\sigma)}$\n",
    "\n",
    "\\begin{align*}\n",
    "\\langle (x-\\mu)^2\\rangle_{N(\\mu,\\sigma)} =\n",
    "\\frac{1}{\\sqrt{2\\pi\\sigma^2}}\\int_{-\\infty}^{\\infty} (x-\\mu)^2e^{-\\frac{(x-\\mu)^2}{2\\sigma^2}}dx=\n",
    "\\frac{1}{\\sqrt{2\\pi\\sigma^2}}\\left(\\sqrt{2\\pi}\\sigma^3\\right)= \\sigma^2\n",
    "\\end{align*}\n",
    "\n",
    "Por lo tanto\n",
    "\n",
    "\\begin{equation*}\n",
    "\\boxed{\\langle (x-\\mu)^2\\rangle_{N(\\mu,\\sigma)}=\\sigma^2}\\quad\\ \\text{b)}\n",
    "\\end{equation*}"
   ]
  },
  {
   "cell_type": "markdown",
   "metadata": {},
   "source": [
    "_____\n",
    "__c)__\n",
    "\\begin{equation}\n",
    "\\langle x-\\mu\\rangle_{N(\\mu,\\sigma)}\\equiv \\int_{-\\infty}^{\\infty} (x-\\mu)N(x,\\mu,\\sigma)dx=0\n",
    "\\end{equation}"
   ]
  },
  {
   "cell_type": "markdown",
   "metadata": {},
   "source": [
    "_____\n",
    "\\begin{align*}\n",
    "\\langle x-\\mu\\rangle_{N(\\mu,\\sigma)} &\\equiv \n",
    "\\int_{-\\infty}^{\\infty} (x-\\mu)N(x,\\mu,\\sigma)dx=\n",
    "\\frac{1}{\\sqrt{2\\pi\\sigma^2}}\\int_{-\\infty}^{\\infty} (x-\\mu)e^{-\\frac{(x-\\mu)^2}{2\\sigma^2}}dx\n",
    "\\end{align*}\n",
    "\n",
    "Hacemos un cambio de variable $z=\\frac{x-\\mu}{\\sqrt{2}\\sigma}$, entonces $dx=\\sqrt{2}\\sigma dz$ y resolvemos la integral por separado.\n",
    "\n",
    "\\begin{align*}\n",
    "\\int_{-\\infty}^{\\infty} (x-\\mu)e^{-\\frac{(x-\\mu)^2}{2\\sigma^2}}dx &=\n",
    "\\sqrt{2}\\sigma\\int_{-\\infty}^{\\infty} \\left(\\sqrt{2}\\sigma z\\right)e^{-z^2}dz =\n",
    "2\\sigma^2\\int_{-\\infty}^{\\infty} ze^{-z^2}dz = 2\\sigma^2\\left(0\\right)=0\n",
    "\\end{align*}\n",
    "\n",
    "Esto es porque la función es impar por lo que al integral sobre todo el espacio se tiene $0$ de resultado, por lo tanto\n",
    "\n",
    "\\begin{equation*}\n",
    "\\boxed{\\langle x-\\mu\\rangle_{N(\\mu,\\sigma)}=0}\\quad\\ \\text{c)}\n",
    "\\end{equation*}"
   ]
  },
  {
   "cell_type": "markdown",
   "metadata": {},
   "source": [
    "_____\n",
    "__d)__\n",
    "\\begin{equation}\n",
    "\\langle x^2\\rangle_{N(\\mu,\\sigma)}\\equiv \\int_{-\\infty}^{\\infty} x^2N(x,\\mu,\\sigma)dx=\\mu^2+\\sigma^2\n",
    "\\end{equation}"
   ]
  },
  {
   "cell_type": "markdown",
   "metadata": {},
   "source": [
    "_____\n",
    "\n",
    "\\begin{align*}\n",
    "\\langle x^2\\rangle_{N(\\mu,\\sigma)} \\equiv \n",
    "\\int_{-\\infty}^{\\infty} x^2N(x,\\mu,\\sigma)dx=\n",
    "\\frac{1}{\\sqrt{2\\pi\\sigma^2}}\\int_{-\\infty}^{\\infty} x^2e^{-\\frac{(x-\\mu)^2}{2\\sigma^2}}dx\n",
    "\\end{align*}\n",
    "\n",
    "Hacemos un cambio de variable $z=\\frac{x-\\mu}{\\sqrt{2}\\sigma}$, entonces $dx=\\sqrt{2}\\sigma dz$ y resolvemos la integral por separado.\n",
    "\n",
    "\\begin{align*}\n",
    "\\int_{-\\infty}^{\\infty} x^2e^{-\\frac{(x-\\mu)^2}{2\\sigma^2}}dx &=\n",
    "\\sqrt{2}\\sigma\\int_{-\\infty}^{\\infty} \\left(\\sqrt{2}\\sigma z+\\mu\\right)^2e^{-z^2}dz = \\dots \\\\\n",
    "\\dots &= \\sqrt{2}\\sigma\\left[\n",
    "2\\sigma^2\\int_{-\\infty}^{\\infty} z^2e^{-z^2}dz+\n",
    "\\sqrt{2}\\sigma\\mu\\int_{-\\infty}^{\\infty} ze^{-z^2}dz+\n",
    "\\mu^2\\int_{-\\infty}^{\\infty} e^{-z^2}dz\\right]=\\dots\\\\\n",
    "\\dots &= \\sqrt{2}\\sigma\\left[\n",
    "2\\sigma^2\\left(\\frac{\\sqrt{\\pi}}{2}\\right)+\n",
    "\\sqrt{2}\\sigma\\mu(0)+\n",
    "\\mu^2\\left(\\sqrt{\\pi}\\right)\\right]=\\dots\\\\\n",
    "\\dots &= \\sqrt{2\\pi}\\sigma\\left[\\sigma^2+ \\mu^2\\right]\n",
    "\\end{align*}\n",
    "\n",
    "\n",
    "Sustituimos este resultado en $\\langle x^2\\rangle_{N(\\mu,\\sigma)}$\n",
    "\n",
    "\\begin{align*}\n",
    "\\langle x^2\\rangle_{N(\\mu,\\sigma)} =\n",
    "\\frac{1}{\\sqrt{2\\pi\\sigma^2}}\\int_{-\\infty}^{\\infty} x^2e^{-\\frac{(x-\\mu)^2}{2\\sigma^2}}dx=\\sigma^2+ \\mu^2\n",
    "\\end{align*}\n",
    "\n",
    "Por lo tanto\n",
    "\n",
    "\\begin{equation*}\n",
    "\\boxed{\\langle x^2\\rangle_{N(\\mu,\\sigma)}=\\sigma^2+\\mu^2}\\quad\\ \\text{d)}\n",
    "\\end{equation*}"
   ]
  },
  {
   "cell_type": "markdown",
   "metadata": {},
   "source": [
    "### Ejercicio 3: Función Generadora de Momentos\n",
    "\n",
    "Encontrar la función generadora de momentos de las siguientes distribuciones de probabilidad. A partir de estas funciones que has encontrado calcula los dos primeros momentos de cada distribución.\n",
    "\n",
    "__a)__ Normal: $N(m,a)$"
   ]
  },
  {
   "cell_type": "markdown",
   "metadata": {},
   "source": [
    "Puesto que la función generadora de momentos esta definida como\n",
    "\n",
    "\\begin{equation}\n",
    "    M_X(t)=\\langle e^{tX}\\rangle=\\int_{-\\infty}^{\\infty}e^{tx}p(x)dx\n",
    "\\end{equation}\n",
    "\n",
    "Entonces para la distribución normal tenemos\n",
    "\n",
    "\\begin{equation*}\n",
    "    M_N(t)=\\frac{1}{\\sqrt{2\\pi a^2}}\\int_{-\\infty}^{\\infty} \n",
    "    e^{tx-\\frac{(x-m)^2}{2a^2}}dx\n",
    "\\end{equation*}\n",
    "\n",
    "Además si completamos el cuadrado\n",
    "\n",
    "\\begin{align*}\n",
    "    tx-\\frac{(x-m)^2}{2a^2} &=\n",
    "    \\frac{2a^2tx - (x^2-2m x+m^2)}{2a^2}=\n",
    "    -\\frac{x^2-2x(m-a^2 t)}{2a^2}-\\frac{m^2}{2a^2}=\n",
    "    -\\frac{\\left(x-m-a^2 t\\right)^2}{2a^2}+\n",
    "    \\frac{(m-a^2t)^2-m^2}{2a^2}=\\dots\\\\ \n",
    "    \\dots &= -\\frac{\\left(x-m-a^2 t\\right)^2}{2a^2}+\n",
    "    \\frac{(2mt-a^4t^2)}{2a^2}= -\\frac{\\left(x-m-a^2 t\\right)^2}{2a^2}+\n",
    "    mt+\\frac{a^2t^2}{2}\n",
    "\\end{align*}\n",
    "\n",
    "Entonces\n",
    "\n",
    "\\begin{equation*}\n",
    "    M_N(t)=\\frac{1}{\\sqrt{2\\pi a^2}}\\int_{-\\infty}^{\\infty} \n",
    "    e^{tx-\\frac{(x-m)^2}{2a^2}}dx=\n",
    "    \\frac{1}{\\sqrt{2\\pi a^2}}e^{mt+\\frac{a^2t^2}{2}}\\int_{-\\infty}^{\\infty} \n",
    "    e^{-\\frac{\\left(x-m-a^2 t\\right)^2}{2a^2}}dx\n",
    "\\end{equation*}\n",
    "\n",
    "Continuamos con el siguiente cambio de variable $z=x-m-a^2t$, entonces $dz=dx$\n",
    "\n",
    "\\begin{equation*}\n",
    "    M_N(t)=\n",
    "    \\frac{1}{\\sqrt{2\\pi a^2}}e^{mt+\\frac{a^2t^2}{2}}\\int_{-\\infty}^{\\infty} \n",
    "    e^{-z^2/2a^2}dz= \\frac{1}{\\sqrt{2\\pi a^2}}e^{mt+\\frac{a^2t^2}{2}}\\left(\\sqrt{2\\pi a^2}\\right)=\n",
    "    e^{mt+\\frac{a^2t^2}{2}}\n",
    "\\end{equation*}"
   ]
  },
  {
   "cell_type": "markdown",
   "metadata": {},
   "source": [
    "Y podemos reescribir los momentos con la función generadora\n",
    "\n",
    "\\begin{equation}\n",
    "\\left\\langle X^n\\right\\rangle=\\lim_{t\\to 0}\\left(\\frac{d}{dt}\\right)^n M_X(t)\n",
    "\\end{equation}\n"
   ]
  },
  {
   "cell_type": "markdown",
   "metadata": {},
   "source": [
    "Por lo tanto\n",
    "\n",
    "__a)__\\begin{equation*}\n",
    "\\boxed{M_N(t)=e^{mt+\\frac{a^2t^2}{2}}},\\quad\\ \n",
    "\\left\\langle X\\right\\rangle=\\lim_{t\\to0}e^{mt+\\frac{a^2t^2}{2}}(m+a^2t)=m,\\quad\\ \n",
    "\\left\\langle X^2\\right\\rangle=\\lim_{t\\to0}\\left[a^2+(m^2+a^2t)^2 \\right]e^{mt+\\frac{a^2t^2}{2}}=a^2+m^2\n",
    "\\end{equation*}\n"
   ]
  },
  {
   "cell_type": "markdown",
   "metadata": {},
   "source": [
    "_______\n",
    "__b)__ Uniforme: $U(m,a)$\n",
    "\n",
    "Y para la distribución uniforme tenemos\n",
    "\n",
    "\\begin{equation*}\n",
    "    M_U(t)=\\frac{1}{2a}\\int_{m-a}^{m+a} \n",
    "    e^{tx}dx= \n",
    "    \\frac{e^{t(m+a)}-e^{t(m-a)}}{2at}\n",
    "\\end{equation*}"
   ]
  },
  {
   "cell_type": "markdown",
   "metadata": {},
   "source": [
    "Calculamos los momentos, primero para $n=1$\n",
    "\n",
    "\\begin{equation*}\n",
    "\\left\\langle X\\right\\rangle=\\lim_{t\\to0}\\left[\n",
    "\\frac{(a+m) e^{t (a+m)}-(m-a)\n",
    "   e^{t (m-a)}}{2 a\n",
    "   t}-\\frac{e^{t (a+m)}-e^{t\n",
    "   (m-a)}}{2 a t^2}\\right]\n",
    "\\end{equation*}\n",
    "\n",
    "Y como en $t\\to0$, este límite es de la forma $0/0$ por lo que usamos L'Hopital"
   ]
  },
  {
   "cell_type": "markdown",
   "metadata": {},
   "source": [
    "\\begin{align*}\n",
    "L_1(t) &=\\frac{\\frac{d}{dt}[(a+m) e^{t (a+m)}-(m-a)\n",
    "   e^{t (m-a)}]}{\\frac{d}{dt}2 a\n",
    "   t}-\\frac{\\frac{d^2}{dt^2}[e^{t (a+m)}-e^{t\n",
    "   (m-a)}]}{\\frac{d^2}{dt^2}2 a t^2}=\\dots\\\\\n",
    "\\dots &=\\frac{(a+m)^2 e^{t (a+m)}-(m-a)^2e^{t (m-a)}}{2 a}-\n",
    "\\frac{(a+m)^2 e^{t (a+m)}-(m-a)^2e^{t (m-a)}}{4 a}=\\\\\n",
    "\\dots &=\\frac{(a+m)^2 e^{t (a+m)}-(m-a)^2e^{t (m-a)}}{4 a}\n",
    "\\end{align*}\n",
    "\n",
    "Entonces \n",
    "\n",
    "\\begin{align*}\n",
    "L_1(0) =\\frac{(a+m)^2-(m-a)^2}{2 a}=\\frac{a^2+2am+m^2-(m^2-2am+a^2)}{4 a}=m\n",
    "\\end{align*}\n"
   ]
  },
  {
   "cell_type": "markdown",
   "metadata": {},
   "source": [
    "Continuamos con $n=2$\n",
    "\n",
    "\\begin{equation*}\n",
    "\\left\\langle X^2\\right\\rangle=\\frac{1}{2a}\\lim_{t\\to0}\\left[\n",
    "\\frac{2 \\left(e^{t\n",
    "   (a+m)}-e^{t\n",
    "   (m-a)}\\right)}{t^3}-\\frac{2\n",
    "   \\left((a+m) e^{t\n",
    "   (a+m)}-(m-a) e^{t\n",
    "   (m-a)}\\right)}{t^2}+\\frac{(\n",
    "   a+m)^2 e^{t (a+m)}-(m-a)^2\n",
    "   e^{t (m-a)}}{t}\\right]\n",
    "\\end{equation*}\n",
    "\n",
    "Y como en $t\\to0$, este límite es de la forma $0/0$ por lo que usamos L'Hopital"
   ]
  },
  {
   "cell_type": "markdown",
   "metadata": {},
   "source": [
    "\\begin{align*}\n",
    "L_2(t) &= \\frac{1}{2a}\\left[\n",
    "\\frac{\\frac{d^3}{dt^3}2 \\left(e^{t(a+m)}-e^{t(m-a)}\\right)}{\\frac{d^3}{dt^3}[t^3]}-\n",
    "\\frac{\\frac{d^2}{dt^2}2 \\left((a+m) e^{t(a+m)}-(m-a) e^{t(m-a)}\\right)]}{\\frac{d^2}{dt^2}[t^2]}+\n",
    "\\frac{\\frac{d}{dt}[(a+m)^2 e^{t (a+m)}-(m-a)^2e^{t (m-a)}]}{\\frac{d}{dt}t}\n",
    "\\right]=\\dots\\\\\n",
    "\\dots &=\\frac{1}{2a}\\left[\n",
    "\\frac{\\left((a+m)^3e^{t(a+m)}-(m-a)^3e^{t(m-a)}\\right)}{3}-\n",
    "\\left((a+m)^3 e^{t(a+m)}-(m-a)^3 e^{t(m-a)}\\right)+\n",
    "\\left((a+m)^3 e^{t (a+m)}-(m-a)^3e^{t(m-a)}\\right)\n",
    "\\right]=\\dots\\\\\n",
    "\\dots &=\\frac{1}{6a}\\left[\n",
    "(a+m)^3e^{t(a+m)}-(m-a)^3e^{t(m-a)}\n",
    "\\right]\n",
    "\\end{align*}\n",
    "\n",
    "Entonces \n",
    "\n",
    "\\begin{align*}\n",
    "L_2(0) = \\frac{1}{3a}(a^3+3am^2)=\\frac{a^2}{3}+m^2\n",
    "\\end{align*}"
   ]
  },
  {
   "cell_type": "markdown",
   "metadata": {},
   "source": [
    "\n",
    "\n",
    "Por lo tanto\n",
    "\n",
    "__b)__\\begin{equation*}\n",
    "\\boxed{M_U(t)=\\frac{e^{t(m+a)}-e^{t(m-a)}}{2at}},\\quad\\ \n",
    "\\left\\langle X\\right\\rangle=m,\\quad\\ \n",
    "\\left\\langle X^2\\right\\rangle=\\frac{a^2}{3}+m^2\n",
    "\\end{equation*}"
   ]
  },
  {
   "cell_type": "markdown",
   "metadata": {},
   "source": [
    "### Ejercicio 4: Suma de Normales\n",
    "\n",
    "Dadas $X_1=aN_1(0,1)$ y $X_2=bN_1(0,1)+cN_2(0,1)$, con $a$, $b$ y $c$ constantes, $N_1(0,1)$ y $N_2(0,1)$ variables normales unitarias independientes.\n",
    "\n",
    "__a)__ Determinar $\\text{COV}\\{X_1,X_2\\}$"
   ]
  },
  {
   "cell_type": "markdown",
   "metadata": {},
   "source": [
    "Puesto que $\\text{COV}\\{X_1,X_2\\}=\\left\\langle X_1X_2\\right\\rangle - \\left\\langle X_1\\right\\rangle\\left\\langle X_2\\right\\rangle$, entonces\n",
    "\n",
    "\\begin{align*}\n",
    "\\text{COV}\\{X_1,X_2\\} &=\\left\\langle X_1X_2\\right\\rangle - \\left\\langle X_1\\right\\rangle\\left\\langle X_2\\right\\rangle=\n",
    "\\left\\langle X_1X_2\\right\\rangle - (a\\cdot 0)(b\\cdot0+c\\cdot 0)=\\left\\langle X_1X_2\\right\\rangle = \\left\\langle abN_1(0,1)^2+acN_1(0,1)N_2(0,1)\\right\\rangle=\\dots\\\\\n",
    "\\dots &= ab\\left\\langle N_1(0,1)^2\\right\\rangle+ac\\left\\langle N_1(0,1)N_2(0,1)\\right\\rangle=\\dots\\\\\n",
    "\\dots &= ab+ac\\left\\langle N_1(0,1)\\right\\rangle\\left\\langle N_2(0,1)\\right\\rangle = ab+ac\\cdot0=ab\n",
    "\\end{align*}\n",
    "\n",
    "Por lo tanto\n",
    "\\begin{equation*}\n",
    "\\boxed{\\text{COV}\\{X_1,X_2\\}=ab}\\quad\\ \\text{a)}\n",
    "\\end{equation*}\n",
    "\n"
   ]
  },
  {
   "cell_type": "markdown",
   "metadata": {},
   "source": [
    "_____\n",
    "__b)__ Mostrar que $\\text{VAR}\\{X_1 +X_2\\}\\neq\\text{VAR}\\{X_1\\}+\\text{VAR}\\{X_2\\}$.\n",
    "\n",
    "Primero con $X_1$: \\begin{equation*}\n",
    "X_1^2=a^2N_1(0,1)^2,\\qquad\\ \\Rightarrow \\left\\langle X_1^2\\right\\rangle=a^2\\left\\langle N_1(0,1)^2\\right\\rangle=a^2\n",
    "\\end{equation*}\n",
    "\n",
    "Ahora con $X_2$: \n",
    "\\begin{align*}\n",
    "X_2^2 &= b^2N_1(0,1)^2+2bcN_1(0,1)N_2(0,1)+c^2N_2(0,1)^2,\\\\\n",
    "\\Rightarrow \\left\\langle X_2^2\\right\\rangle &=\n",
    "b^2\\left\\langle N_1(0,1)^2\\right\\rangle+2bc\\left\\langle N_1(0,1)N_2(0,1)\\right\\rangle+c^2 \\left\\langle N_2(0,1)^2\\right\\rangle=b^2+c^2\n",
    "\\end{align*}\n",
    "\n",
    "Y como $\\langle X_i\\rangle=0$ para $i=1,2$, tenemos que \n",
    "\n",
    "\\begin{equation*}\n",
    "\\text{VAR}\\{X_1\\}+\\text{VAR}\\{X_2\\}=a^2+b^2+c^2\n",
    "\\end{equation*}"
   ]
  },
  {
   "cell_type": "markdown",
   "metadata": {},
   "source": [
    "\\begin{align*}\n",
    "(X_1+X_2)^2 &=X_1^2+2X_1X_2+X_2^2 \\\\\n",
    "\\Rightarrow \\left\\langle(X_1+X_2)^2\\right\\rangle &= \\left\\langle X_1^2+2X_1X_2+X_2^2\\right\\rangle = \n",
    "\\left\\langle X_1^2\\right\\rangle+2\\left\\langle X_1X_2\\right\\rangle+\\left\\langle X_2^2\\right\\rangle = \\dots\\\\\n",
    "\\dots &= a^2+2\\left\\langle abN_1(0,1)^2+acN_1(0,1)N_2(0,1)\\right\\rangle+(b^2+c^2) = \\dots\\\\\n",
    "\\dots &= a^2+b^2+c^2+2\\left[\n",
    "ab\\left\\langle N_1(0,1)^2\\right\\rangle+\n",
    "ac\\left\\langle N_1(0,1)N_2(0,1)\\right\\rangle\\right] = \\dots\\\\\n",
    "\\dots &= a^2+b^2+c^2+2ab\n",
    "\\end{align*}\n",
    "\n",
    "Y como $\\langle X_1+X_2\\rangle=0$, tenemos que \n",
    "\n",
    "\\begin{equation*}\n",
    "\\text{VAR}\\{X_1+X_2\\}=a^2+b^2+c^2+2ab\n",
    "\\end{equation*}"
   ]
  },
  {
   "cell_type": "markdown",
   "metadata": {},
   "source": [
    "Por lo tanto \n",
    "\n",
    "\\begin{equation*}\n",
    "\\boxed{\\text{VAR}\\{X_1+X_2\\} \\neq \\text{VAR}\\{X_1\\} + \\text{VAR}\\{X_2\\}}\\quad\\ \\text{b)}\n",
    "\\end{equation*}"
   ]
  }
 ],
 "metadata": {
  "kernelspec": {
   "display_name": "Python 3",
   "language": "python",
   "name": "python3"
  },
  "language_info": {
   "codemirror_mode": {
    "name": "ipython",
    "version": 3
   },
   "file_extension": ".py",
   "mimetype": "text/x-python",
   "name": "python",
   "nbconvert_exporter": "python",
   "pygments_lexer": "ipython3",
   "version": "3.8.3"
  },
  "latex_envs": {
   "LaTeX_envs_menu_present": true,
   "autoclose": false,
   "autocomplete": false,
   "bibliofile": "biblio.bib",
   "cite_by": "apalike",
   "current_citInitial": 1,
   "eqLabelWithNumbers": true,
   "eqNumInitial": 1,
   "hotkeys": {
    "equation": "Ctrl-E",
    "itemize": "Ctrl-I"
   },
   "labels_anchors": false,
   "latex_user_defs": false,
   "report_style_numbering": true,
   "user_envs_cfg": true
  }
 },
 "nbformat": 4,
 "nbformat_minor": 4
}
